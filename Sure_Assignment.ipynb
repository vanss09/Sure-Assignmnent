{
  "nbformat": 4,
  "nbformat_minor": 0,
  "metadata": {
    "colab": {
      "provenance": []
    },
    "kernelspec": {
      "name": "python3",
      "display_name": "Python 3"
    },
    "language_info": {
      "name": "python"
    }
  },
  "cells": [
    {
      "cell_type": "markdown",
      "source": [
        "**Credit Card Statement Parser**\n",
        "\n",
        "Build a PDF parser that extracts 5 key data points from credit card statements across 5 major credit card issuers."
      ],
      "metadata": {
        "id": "3C8fgAh22-C7"
      }
    },
    {
      "cell_type": "markdown",
      "source": [
        "Using pdfplumber which will allow to read and extract text, tables, and layout information from PDF files."
      ],
      "metadata": {
        "id": "MlsZ53FW3TS7"
      }
    },
    {
      "cell_type": "code",
      "execution_count": 1,
      "metadata": {
        "colab": {
          "base_uri": "https://localhost:8080/"
        },
        "id": "RXRkwddh25nG",
        "outputId": "75073bb2-8091-43de-d866-ca867c00dad5"
      },
      "outputs": [
        {
          "output_type": "stream",
          "name": "stdout",
          "text": [
            "Collecting pdfplumber\n",
            "  Downloading pdfplumber-0.11.7-py3-none-any.whl.metadata (42 kB)\n",
            "\u001b[?25l     \u001b[90m━━━━━━━━━━━━━━━━━━━━━━━━━━━━━━━━━━━━━━━━\u001b[0m \u001b[32m0.0/42.8 kB\u001b[0m \u001b[31m?\u001b[0m eta \u001b[36m-:--:--\u001b[0m\r\u001b[2K     \u001b[90m━━━━━━━━━━━━━━━━━━━━━━━━━━━━━━━━━━━━━━━━\u001b[0m \u001b[32m42.8/42.8 kB\u001b[0m \u001b[31m1.5 MB/s\u001b[0m eta \u001b[36m0:00:00\u001b[0m\n",
            "\u001b[?25hCollecting pdfminer.six==20250506 (from pdfplumber)\n",
            "  Downloading pdfminer_six-20250506-py3-none-any.whl.metadata (4.2 kB)\n",
            "Requirement already satisfied: Pillow>=9.1 in /usr/local/lib/python3.12/dist-packages (from pdfplumber) (11.3.0)\n",
            "Collecting pypdfium2>=4.18.0 (from pdfplumber)\n",
            "  Downloading pypdfium2-4.30.0-py3-none-manylinux_2_17_x86_64.manylinux2014_x86_64.whl.metadata (48 kB)\n",
            "\u001b[2K     \u001b[90m━━━━━━━━━━━━━━━━━━━━━━━━━━━━━━━━━━━━━━━━\u001b[0m \u001b[32m48.5/48.5 kB\u001b[0m \u001b[31m2.5 MB/s\u001b[0m eta \u001b[36m0:00:00\u001b[0m\n",
            "\u001b[?25hRequirement already satisfied: charset-normalizer>=2.0.0 in /usr/local/lib/python3.12/dist-packages (from pdfminer.six==20250506->pdfplumber) (3.4.4)\n",
            "Requirement already satisfied: cryptography>=36.0.0 in /usr/local/lib/python3.12/dist-packages (from pdfminer.six==20250506->pdfplumber) (43.0.3)\n",
            "Requirement already satisfied: cffi>=1.12 in /usr/local/lib/python3.12/dist-packages (from cryptography>=36.0.0->pdfminer.six==20250506->pdfplumber) (2.0.0)\n",
            "Requirement already satisfied: pycparser in /usr/local/lib/python3.12/dist-packages (from cffi>=1.12->cryptography>=36.0.0->pdfminer.six==20250506->pdfplumber) (2.23)\n",
            "Downloading pdfplumber-0.11.7-py3-none-any.whl (60 kB)\n",
            "\u001b[2K   \u001b[90m━━━━━━━━━━━━━━━━━━━━━━━━━━━━━━━━━━━━━━━━\u001b[0m \u001b[32m60.0/60.0 kB\u001b[0m \u001b[31m3.4 MB/s\u001b[0m eta \u001b[36m0:00:00\u001b[0m\n",
            "\u001b[?25hDownloading pdfminer_six-20250506-py3-none-any.whl (5.6 MB)\n",
            "\u001b[2K   \u001b[90m━━━━━━━━━━━━━━━━━━━━━━━━━━━━━━━━━━━━━━━━\u001b[0m \u001b[32m5.6/5.6 MB\u001b[0m \u001b[31m62.3 MB/s\u001b[0m eta \u001b[36m0:00:00\u001b[0m\n",
            "\u001b[?25hDownloading pypdfium2-4.30.0-py3-none-manylinux_2_17_x86_64.manylinux2014_x86_64.whl (2.8 MB)\n",
            "\u001b[2K   \u001b[90m━━━━━━━━━━━━━━━━━━━━━━━━━━━━━━━━━━━━━━━━\u001b[0m \u001b[32m2.8/2.8 MB\u001b[0m \u001b[31m92.5 MB/s\u001b[0m eta \u001b[36m0:00:00\u001b[0m\n",
            "\u001b[?25hInstalling collected packages: pypdfium2, pdfminer.six, pdfplumber\n",
            "Successfully installed pdfminer.six-20250506 pdfplumber-0.11.7 pypdfium2-4.30.0\n"
          ]
        }
      ],
      "source": [
        "pip install pdfplumber"
      ]
    },
    {
      "cell_type": "code",
      "source": [
        "import pdfplumber\n",
        "import re\n",
        "import os\n",
        "\n",
        "def extract_text_from_pdf(pdf_path):\n",
        "    text = \"\"\n",
        "    with pdfplumber.open(pdf_path) as pdf:\n",
        "        for page in pdf.pages:\n",
        "            page_text = page.extract_text()\n",
        "            if page_text:\n",
        "                text += page_text + \"\\n\"\n",
        "    return text\n",
        "\n",
        "\n",
        "class BaseParser:\n",
        "    def __init__(self, bank_name):\n",
        "        self.bank_name = bank_name\n",
        "\n",
        "    def parse(self, text):\n",
        "        raise NotImplementedError(\"Each bank parser must implement its own parse method.\")\n",
        "\n",
        "\n",
        "class YesBankParser(BaseParser):\n",
        "    def __init__(self):\n",
        "        super().__init__(\"HDFC Bank\")\n",
        "\n",
        "    def parse(self, text):\n",
        "        data = {}\n",
        "        data[\"Bank\"] = self.bank_name\n",
        "        data[\"Card Last 4\"] = re.search(r\"Card\\s*No\\.*\\s*(\\d{4})\", text)\n",
        "        data[\"Billing Cycle\"] = re.search(r\"Statement Period\\s*:\\s*(.*)\", text)\n",
        "        data[\"Due Date\"] = re.search(r\"Payment Due Date\\s*:\\s*(\\d{2}/\\d{2}/\\d{4})\", text)\n",
        "        data[\"Total Due\"] = re.search(r\"Total Amount Due\\s*:?[\\s₹]*([\\d,]+\\.\\d{2})\", text)\n",
        "        data[\"Name\"] = re.search(r\"Statement of\\s+(.*)\", text)\n",
        "        return {k: (v.group(1) if v else \"Not Found\") for k, v in data.items()}\n",
        "\n",
        "\n",
        "class SaraswatParser(BaseParser):\n",
        "    def __init__(self):\n",
        "        super().__init__(\"SBI Card\")\n",
        "\n",
        "    def parse(self, text):\n",
        "        data = {}\n",
        "        data[\"Bank\"] = self.bank_name\n",
        "        data[\"Card Last 4\"] = re.search(r\"Card Number\\s*:\\s*\\*+(\\d{4})\", text)\n",
        "        data[\"Billing Cycle\"] = re.search(r\"Statement Period\\s*:\\s*(.*)\", text)\n",
        "        data[\"Due Date\"] = re.search(r\"Payment Due Date\\s*:\\s*(\\d{2}-\\w{3}-\\d{4})\", text)\n",
        "        data[\"Total Due\"] = re.search(r\"Total Amount Due\\s*₹?\\s*([\\d,]+\\.\\d{2})\", text)\n",
        "        data[\"Name\"] = re.search(r\"Statement of Account\\s*-\\s*(.*)\", text)\n",
        "        return {k: (v.group(1) if v else \"Not Found\") for k, v in data.items()}\n",
        "\n",
        "\n",
        "class CitiBankParser(BaseParser):\n",
        "    def __init__(self):\n",
        "        super().__init__(\"Axis Bank\")\n",
        "\n",
        "    def parse(self, text):\n",
        "        data = {}\n",
        "        data[\"Bank\"] = self.bank_name\n",
        "        data[\"Card Last 4\"] = re.search(r\"XXXX\\s*(\\d{4})\", text)\n",
        "        data[\"Billing Cycle\"] = re.search(r\"Statement Date\\s*:\\s*(.*)\", text)\n",
        "        data[\"Due Date\"] = re.search(r\"Due Date\\s*:\\s*(\\d{2}/\\d{2}/\\d{4})\", text)\n",
        "        data[\"Total Due\"] = re.search(r\"Total Amount Due\\s*₹?\\s*([\\d,]+\\.\\d{2})\", text)\n",
        "        data[\"Name\"] = re.search(r\"Cardholder\\s*Name\\s*:\\s*(.*)\", text)\n",
        "        return {k: (v.group(1) if v else \"Not Found\") for k, v in data.items()}\n",
        "\n",
        "\n",
        "class ICICIParser(BaseParser):\n",
        "    def __init__(self):\n",
        "        super().__init__(\"ICICI Bank\")\n",
        "\n",
        "    def parse(self, text):\n",
        "        data = {}\n",
        "        data[\"Bank\"] = self.bank_name\n",
        "        data[\"Card Last 4\"] = re.search(r\"Card Ending\\s*:\\s*(\\d{4})\", text)\n",
        "        data[\"Billing Cycle\"] = re.search(r\"Billing Period\\s*:\\s*(.*)\", text)\n",
        "        data[\"Due Date\"] = re.search(r\"Payment Due Date\\s*:\\s*(\\d{2}\\s\\w+\\s\\d{4})\", text)\n",
        "        data[\"Total Due\"] = re.search(r\"Total Amount Due\\s*₹?\\s*([\\d,]+\\.\\d{2})\", text)\n",
        "        data[\"Name\"] = re.search(r\"Statement for\\s*(.*)\", text)\n",
        "        return {k: (v.group(1) if v else \"Not Found\") for k, v in data.items()}\n",
        "\n",
        "\n",
        "class HDFCParser(BaseParser):\n",
        "    def __init__(self):\n",
        "        super().__init__(\"American Express\")\n",
        "\n",
        "    def parse(self, text):\n",
        "        data = {}\n",
        "        data[\"Bank\"] = self.bank_name\n",
        "        data[\"Card Last 4\"] = re.search(r\"Card ending\\s*(\\d{4})\", text)\n",
        "        data[\"Billing Cycle\"] = re.search(r\"Statement Period\\s*:\\s*(.*)\", text)\n",
        "        data[\"Due Date\"] = re.search(r\"Payment Due\\s*:\\s*(\\d{2}\\s\\w+\\s\\d{4})\", text)\n",
        "        data[\"Total Due\"] = re.search(r\"Total Due\\s*₹?\\s*([\\d,]+\\.\\d{2})\", text)\n",
        "        data[\"Name\"] = re.search(r\"Account Summary for\\s*(.*)\", text)\n",
        "        return {k: (v.group(1) if v else \"Not Found\") for k, v in data.items()}\n",
        "\n",
        "\n",
        "\n",
        "def identify_bank(text):\n",
        "    \"\"\"Identify bank statement\"\"\"\n",
        "    if \"Yes Bank\" in text:\n",
        "        return YesBankParser()\n",
        "    elif \"Saraswat\" in text:\n",
        "        return SaraswatParser()\n",
        "    elif \"CitiBank\" in text:\n",
        "        return CitiBankParser()\n",
        "    elif \"ICICI\" in text:\n",
        "        return ICICIParser()\n",
        "    elif \"American Express\" in text or \"AMEX\" in text:\n",
        "        return HDFCParser()\n",
        "    else:\n",
        "        return None\n",
        "\n",
        "\n",
        "def parse_statement(pdf_path):\n",
        "    text = extract_text_from_pdf(pdf_path)\n",
        "    parser = identify_bank(text)\n",
        "\n",
        "    if parser:\n",
        "        result = parser.parse(text)\n",
        "        print(\"\\nExtracted Data:\")\n",
        "        for k, v in result.items():\n",
        "            print(f\"{k}: {v}\")\n",
        "    else:\n",
        "        print(\" Could not identify bank type. Please check your PDF.\")\n",
        "\n",
        "if __name__ == \"__main__\":\n",
        "    pdf_file = \"American_Express_sample_statement_7890\"\n",
        "    if os.path.exists(pdf_file):\n",
        "        parse_statement(pdf_file)\n",
        "    else:\n",
        "        print(f\"Please place your credit card statement as '{pdf_file}' in this folder.\")\n"
      ],
      "metadata": {
        "colab": {
          "base_uri": "https://localhost:8080/"
        },
        "id": "7sWeXEsA3dUv",
        "outputId": "63af0629-14ac-48fd-f3fc-f7a15bca1a70"
      },
      "execution_count": 3,
      "outputs": [
        {
          "output_type": "stream",
          "name": "stdout",
          "text": [
            "Please place your credit card statement as 'American_Express_sample_statement_7890' in this folder.\n"
          ]
        }
      ]
    }
  ]
}